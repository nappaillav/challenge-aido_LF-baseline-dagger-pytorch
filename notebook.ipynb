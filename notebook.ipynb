{
  "cells": [
    {
      "cell_type": "markdown",
      "metadata": {},
      "source": [
        "[![Open In Colab](https://colab.research.google.com/assets/colab-badge.svg)](https://colab.research.google.com/github/duckietown/challenge-aido_LF-baseline-dagger-pytorch/blob/main/notebook.ipynb)"
      ]
    },
    {
      "cell_type": "markdown",
      "metadata": {
        "id": "Obe3xVH5N4f6"
      },
      "source": [
        "## Preparing Code and dependencies"
      ]
    },
    {
      "cell_type": "code",
      "execution_count": null,
      "metadata": {
        "id": "y7B4akyzOBJQ"
      },
      "outputs": [],
      "source": [
        "branch = \"daffy\" #@param ['master', 'daffy']"
      ]
    },
    {
      "cell_type": "code",
      "execution_count": null,
      "metadata": {
        "colab": {
          "base_uri": "https://localhost:8080/"
        },
        "id": "88TrRDRLOXLF",
        "outputId": "64bc658f-676e-4c42-f168-9aa01d26dd74"
      },
      "outputs": [],
      "source": [
        "! git clone --branch {branch} https://github.com/duckietown/gym-duckietown"
      ]
    },
    {
      "cell_type": "code",
      "execution_count": null,
      "metadata": {
        "colab": {
          "base_uri": "https://localhost:8080/"
        },
        "id": "IdLCXQT1Oy9U",
        "outputId": "26d707af-8bc6-4435-f2c8-acb29f281236"
      },
      "outputs": [],
      "source": [
        "!pip install -e gym-duckietown/."
      ]
    },
    {
      "cell_type": "code",
      "execution_count": null,
      "metadata": {},
      "outputs": [],
      "source": [
        "! git clone https://github.com/duckietown/challenge-aido_LF-baseline-dagger-pytorch"
      ]
    },
    {
      "cell_type": "code",
      "execution_count": null,
      "metadata": {},
      "outputs": [],
      "source": [
        "import os \n",
        "os.chdir('challenge-aido_LF-baseline-dagger-pytorch')"
      ]
    },
    {
      "cell_type": "markdown",
      "metadata": {
        "id": "PZCERj2COqJH"
      },
      "source": [
        "### Virtual Display Setup"
      ]
    },
    {
      "cell_type": "code",
      "execution_count": null,
      "metadata": {
        "colab": {
          "base_uri": "https://localhost:8080/"
        },
        "id": "Gd7rzmy5OlyJ",
        "outputId": "32eb5436-b959-428c-860b-ba34b7954c37"
      },
      "outputs": [],
      "source": [
        "!apt-get install python-opengl -y\n",
        "!apt install xvfb -y\n",
        "!apt-get install x11-utils"
      ]
    },
    {
      "cell_type": "code",
      "execution_count": null,
      "metadata": {
        "colab": {
          "base_uri": "https://localhost:8080/"
        },
        "id": "_vOFpsrQOpv7",
        "outputId": "e53357c3-896e-4cbd-c29d-975b38d211e3"
      },
      "outputs": [],
      "source": [
        "!pip install pyvirtualdisplay\n",
        "!pip install piglet"
      ]
    },
    {
      "cell_type": "code",
      "execution_count": null,
      "metadata": {
        "id": "T2Ajwp-HPDKY"
      },
      "outputs": [],
      "source": [
        "from pyvirtualdisplay import Display\n",
        "import numpy as np\n",
        "import matplotlib.pyplot as plt\n",
        "%matplotlib inline\n",
        "\n",
        "# This code creates a virtual display to draw game images on. \n",
        "# If you are running locally, just ignore it\n",
        "import os\n",
        "def create_display():\n",
        "    display = Display(visible=0, size=(1400, 900))\n",
        "    display.start()\n",
        "    if type(os.environ.get(\"DISPLAY\")) is not str or len(os.environ.get(\"DISPLAY\"))==0:\n",
        "        !bash ../xvfb start\n",
        "        %env DISPLAY=:1"
      ]
    },
    {
      "cell_type": "markdown",
      "metadata": {
        "id": "eiq9plyiO7LQ"
      },
      "source": [
        "## Imitation Learning Dagger"
      ]
    },
    {
      "cell_type": "markdown",
      "metadata": {
        "id": "Dx6qgGm8QMMZ"
      },
      "source": [
        "## Training"
      ]
    },
    {
      "cell_type": "code",
      "execution_count": null,
      "metadata": {
        "id": "xyHbCPyURVG3"
      },
      "outputs": [],
      "source": [
        "learning_rates = ['1e-1', '1e-2', '1e-3', '1e-4', '1e-5']\n",
        "mixing_decays = ['0.5', '0.6', '0.7', '0.8', '0.85', '0.9', '0.95']"
      ]
    },
    {
      "cell_type": "code",
      "execution_count": null,
      "metadata": {
        "id": "augg6SvSQOR_"
      },
      "outputs": [],
      "source": [
        "save_path = \"imitation_baseline\" #@param {type: \"string\"}\n",
        "episode = 20 # @param {type: \"integer\"}\n",
        "horizon = 500 # @param {type: \"integer\"}\n",
        "learning_rate = \"1e-3\" # @param ['1e-1', '1e-2', '1e-3', '1e-4', '1e-5']\n",
        "decay = \"0.7\" # @param ['0.5', '0.6', '0.7', '0.8', '0.85', '0.9', '0.95']\n",
        "map_name = \"loop_empty\" #@param {type: \"string\"}\n",
        "# number of outputs can be 2 to predict omega and velocity\n",
        "# or  1 to fix velocity and predict only omega\n",
        "num_outputs = 2 # @param {type: \"integer\"} \n",
        "learning_rate = learning_rates.index(learning_rate)\n",
        "decay = mixing_decays.index(decay)\n"
      ]
    },
    {
      "cell_type": "code",
      "execution_count": null,
      "metadata": {
        "colab": {
          "base_uri": "https://localhost:8080/"
        },
        "id": "DmXN_kBVO9xX",
        "outputId": "05ae09c7-fe9c-4697-8a2a-8413989c12f9"
      },
      "outputs": [],
      "source": [
        "create_display()\n",
        "!python -m learning.train --save-path {save_path} --episode {episode} --horizon {horizon} --learning-rate {learning_rate} --decay {decay} --map-name {map_name} --num-outputs {num_outputs}"
      ]
    },
    {
      "cell_type": "markdown",
      "metadata": {},
      "source": [
        "### View on Tensorboard"
      ]
    },
    {
      "cell_type": "code",
      "execution_count": null,
      "metadata": {},
      "outputs": [],
      "source": [
        "%load_ext tensorboard\n",
        "%tensorboard --logdir {save_path}"
      ]
    },
    {
      "cell_type": "markdown",
      "metadata": {
        "id": "yHQCqfoPP9Gj"
      },
      "source": [
        "## Testing Imitation Model"
      ]
    },
    {
      "cell_type": "code",
      "execution_count": null,
      "metadata": {
        "id": "ewy5rVJxmGk-"
      },
      "outputs": [],
      "source": [
        "map_name = \"loop_empty\" #@param {type: \"string\"}\n",
        "episode = 10 # @param {type: \"integer\"}\n",
        "horizon = 128 # @param {type: \"integer\"}"
      ]
    },
    {
      "cell_type": "code",
      "execution_count": null,
      "metadata": {
        "id": "DWYXt0mQP_CW"
      },
      "outputs": [],
      "source": [
        "create_display()\n",
        "!python -m learning.test --model-path {os.path.join(save_path, \"model.pt\")} --num-outputs {num_outputs} --map-name {map_name} --episode {episode} --horizon {horizon}"
      ]
    }
  ],
  "metadata": {
    "accelerator": "GPU",
    "colab": {
      "collapsed_sections": [],
      "name": "Dagger.ipynb",
      "provenance": []
    },
    "kernelspec": {
      "display_name": "Python 3",
      "name": "python3"
    }
  },
  "nbformat": 4,
  "nbformat_minor": 0
}
